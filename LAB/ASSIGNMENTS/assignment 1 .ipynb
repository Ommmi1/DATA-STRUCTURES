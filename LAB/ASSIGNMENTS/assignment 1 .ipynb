{
 "cells": [
  {
   "cell_type": "code",
   "execution_count": 18,
   "metadata": {},
   "outputs": [
    {
     "name": "stdout",
     "output_type": "stream",
     "text": [
      "2\n",
      "5\n",
      "[3, 4, 5]\n",
      "1\n",
      "6\n",
      "-1\n"
     ]
    }
   ],
   "source": [
    "class sharpsearch:\n",
    "    def __init__(self,list1):\n",
    "        self.list1=list1\n",
    "    def rep(self,list1):\n",
    "        return list1\n",
    "    def searchfirst(self,n):\n",
    "        for i in list1:\n",
    "            if list1[i]==n:\n",
    "                return i\n",
    "    def searchlast(self,n):\n",
    "        for j in reversed(list1):\n",
    "            if list1[j]==n:\n",
    "                return j\n",
    "    def Searchall(self,n):\n",
    "        x=[]\n",
    "        for i in range(len(list1)):\n",
    "            if n==list1[i]:\n",
    "                x.append(i)\n",
    "        return x\n",
    "    def search(self,n):\n",
    "        h=0\n",
    "        for i in range(len(list1)):\n",
    "            if(list1[i]==n):\n",
    "                list1[i]=-1\n",
    "                h=1\n",
    "                return i\n",
    "        if(h==0):\n",
    "            return -1\n",
    "list1=[1,2,3,4,4,4,2,5]\n",
    "obj=sharpsearch(list1)\n",
    "print(obj.searchfirst(3))\n",
    "print(obj.searchlast(4))\n",
    "print(obj.Searchall(4))\n",
    "print(obj.search(2))\n",
    "print(obj.search(2))\n",
    "print(obj.search(2))"
   ]
  },
  {
   "cell_type": "markdown",
   "metadata": {},
   "source": [
    "#Write a function Searchwhich takes a parameter valueand returnsthe index of the location of the value. If this function calls for the first time, then it must returnthe location of the first occurrence of the value. On next call, it returns the next occurrence of the location or -1 if the element not found."
   ]
  },
  {
   "cell_type": "code",
   "execution_count": 12,
   "metadata": {},
   "outputs": [
    {
     "name": "stdout",
     "output_type": "stream",
     "text": [
      "2\n",
      "6\n",
      "0\n",
      "0\n",
      "0\n",
      "[]\n"
     ]
    }
   ],
   "source": [
    "class SharpSearch:\n",
    "    def __init__(self,data):\n",
    "        self.number=0\n",
    "        self.data=data\n",
    "    def SearchFirst(self,n):\n",
    "        for i in range(len(self.data)):\n",
    "            if self.data[i]==n:\n",
    "                return i\n",
    "        return -1\n",
    "    def SearchLast(self,n):\n",
    "        for i in range(len(self.data)-1,-1,-1):\n",
    "        \n",
    "            if self.data[i]==n:\n",
    "                return i\n",
    "        return -1\n",
    "    def Search(self,n):\n",
    "        for i in range(self.number,len(self.data)):\n",
    "            if self.data[i]==n:\n",
    "                return i\n",
    "        return -1    \n",
    "    def SearchAll(self,n):\n",
    "        List=[]\n",
    "        for i in range(len(self.data)):\n",
    "            if self.data==n:\n",
    "                List.append(i)\n",
    "        return List\n",
    "\n",
    "Sharpsearch=SharpSearch([5,4,7,1,5,4,10])\n",
    "print(Sharpsearch.SearchFirst(7))\n",
    "print(Sharpsearch.SearchLast(10))\n",
    "print(Sharpsearch.Search(5))\n",
    "print(Sharpsearch.Search(5))\n",
    "print(Sharpsearch.Search(5))\n",
    "print(Sharpsearch.SearchAll(5))"
   ]
  }
 ],
 "metadata": {
  "kernelspec": {
   "display_name": "Python 3",
   "language": "python",
   "name": "python3"
  },
  "language_info": {
   "codemirror_mode": {
    "name": "ipython",
    "version": 3
   },
   "file_extension": ".py",
   "mimetype": "text/x-python",
   "name": "python",
   "nbconvert_exporter": "python",
   "pygments_lexer": "ipython3",
   "version": "3.7.3"
  }
 },
 "nbformat": 4,
 "nbformat_minor": 2
}
