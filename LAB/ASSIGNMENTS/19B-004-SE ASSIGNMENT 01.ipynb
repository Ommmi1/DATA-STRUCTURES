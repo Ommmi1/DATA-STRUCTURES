{
 "cells": [
  {
   "cell_type": "markdown",
   "metadata": {},
   "source": [
    "# MUHAMMAD OMER SIDDIQUI \n",
    "## 19B-004-SE\n",
    "## ASSIGNMENT 1\n",
    "## SEC A"
   ]
  },
  {
   "cell_type": "markdown",
   "metadata": {},
   "source": [
    "### Write Python functions for the following programs:\n",
    "### 1.Create a class SharpSearchand write functions in Python whose parameters and return value are given below. \n",
    "#### a.Create a constructor which takes a list as parameter and store in as class member.\n",
    "def__init__(self,list):\n",
    "//yourcodegoeshere\n",
    "Example:\n",
    "SharpSearchs=SharpSearch([5,4,7,1,4,9])\n",
    "#### b.Write a function SearchFirstwhich takes a parameter valueand returnsthe index of the location of the first occurrence of the value. \n",
    "def SearchFirst(self,n):\n",
    "//yourcodegoeshereExample:\n",
    "Thefollowingistheoutputifweexecutethebelowgivencode\n",
    "SharpSearchs=SharpSearch([5,4,7,1,4,9])\n",
    "Print(s.SearchFirst(4))\n",
    "Output:\n",
    "1\n",
    "#### c.Write a function SearchLastwhich takes a parameter valueand returnsthe index of the location of the last occurrence of the valuedefSearchLast(self,n):\n",
    "//yourcodegoeshereExample:\n",
    "Thefollowingistheoutputifweexecutethebelowgivencode\n",
    "SharpSearchs=SharpSearch([5,4,7,1,4,9])\n",
    "Print(s.SearchLast(4))\n",
    "Print(s.SearchLast(5))\n",
    "Print(s.SearchLast(15))\n",
    "Output:\n",
    "4\n",
    "0\n",
    "-1\n",
    "#### d.Write a function Searchwhich takes a parameter valueand returnsthe index of the location of the value. If this function calls for the first time, then it must returnthe location of the first occurrence of the value. On next call, it returns the next occurrence of the location or -1 if the element not found.\n",
    "defSearch(self,n):\n",
    "//yourcodegoeshereExample:\n",
    "Thefollowingistheoutputifweexecutethebelowgivencode\n",
    "SharpSearchs=SharpSearch([5,4,7,1,4,9])\n",
    "print(s.Search(4))\n",
    "print(s.Search(4))\n",
    "print(s.Search(4))\n",
    "print(s.Search(4))\n",
    "Output:\n",
    "1\n",
    "4\n",
    "-1\n",
    "-1\n",
    "#### e.Write a function SearchAllwhich takes a parameter valueand returnsa list containing indicesof all locationsof the value. It returns an empty listif the value does not exist.\n",
    "defSearchAll(self,n):\n",
    "//yourcodegoeshereExample:\n",
    "Thefollowingistheoutputifweexecutethebelowgivencode\n",
    "SharpSearchs=SharpSearch([5,4,7,1,4,9])\n",
    "print(s.SearchAll(4))\n",
    "Output:[1,4]"
   ]
  },
  {
   "cell_type": "code",
   "execution_count": 33,
   "metadata": {},
   "outputs": [
    {
     "name": "stdout",
     "output_type": "stream",
     "text": [
      "The Index Of the Value from first is : 3\n",
      "The Index Of the Value from last is : 5\n",
      "The Index Of the Value from last is : None\n",
      "The Index Of the Value from last is : None\n",
      "The Indexes Of the Value is : [3, 4, 5]\n",
      "The 1st Index Of the Value is : 3\n",
      "The 2nd Index Of the Value is : 4\n",
      "The 3rd Index Of the Value is : 5\n",
      "The 4rth Index Of the Value is : -1\n"
     ]
    }
   ],
   "source": [
    "class SharpSearch:\n",
    "    def __init__(self,lis):\n",
    "        self.lis=lis\n",
    "    def SearchFirst(self,n):\n",
    "        for i in lis:\n",
    "            if lis[i]==n:\n",
    "                return i\n",
    "    def SearchLast(self,n):\n",
    "        for j in reversed(lis):\n",
    "            if lis[j]==n:\n",
    "                return j\n",
    "    def SearchAll(self,n):\n",
    "        res=[]\n",
    "        for i in range(len(lis)):\n",
    "            if n==lis[i]:\n",
    "                res.append(i)\n",
    "        return res\n",
    "    def Search(self,n):\n",
    "        value=0\n",
    "        for j in range(len(lis)):\n",
    "            if(lis[j]==n):\n",
    "                lis[j]=-1\n",
    "                value=1\n",
    "                return j\n",
    "        if(value==0):\n",
    "            return -1\n",
    "lis=[1,2,3,4,4,4,2,5]\n",
    "object=SharpSearch(lis)\n",
    "print(\"The Index Of the Value from first is :\",object.SearchFirst(4))\n",
    "print(\"The Index Of the Value from last is :\",object.SearchLast(4))\n",
    "print(\"The Index Of the Value from last is :\",object.SearchLast(5))\n",
    "print(\"The Index Of the Value from last is :\",object.SearchLast(15))\n",
    "print(\"The Indexes Of the Value is :\",object.SearchAll(4))\n",
    "print(\"The 1st Index Of the Value is :\",object.Search(4))\n",
    "print(\"The 2nd Index Of the Value is :\",object.Search(4))\n",
    "print(\"The 3rd Index Of the Value is :\",object.Search(4))\n",
    "print(\"The 4rth Index Of the Value is :\",object.Search(4))"
   ]
  }
 ],
 "metadata": {
  "kernelspec": {
   "display_name": "Python 3",
   "language": "python",
   "name": "python3"
  },
  "language_info": {
   "codemirror_mode": {
    "name": "ipython",
    "version": 3
   },
   "file_extension": ".py",
   "mimetype": "text/x-python",
   "name": "python",
   "nbconvert_exporter": "python",
   "pygments_lexer": "ipython3",
   "version": "3.7.3"
  }
 },
 "nbformat": 4,
 "nbformat_minor": 2
}
